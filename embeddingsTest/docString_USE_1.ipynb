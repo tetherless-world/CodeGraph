{
  "nbformat": 4,
  "nbformat_minor": 0,
  "metadata": {
    "colab": {
      "name": "docString_USE-1.ipynb",
      "provenance": [],
      "collapsed_sections": []
    },
    "kernelspec": {
      "display_name": "Python 3",
      "language": "python",
      "name": "python3"
    },
    "language_info": {
      "codemirror_mode": {
        "name": "ipython",
        "version": 3
      },
      "file_extension": ".py",
      "mimetype": "text/x-python",
      "name": "python",
      "nbconvert_exporter": "python",
      "pygments_lexer": "ipython3",
      "version": "3.7.4"
    }
  },
  "cells": [
    {
      "cell_type": "code",
      "metadata": {
        "colab_type": "code",
        "id": "vpexfXOcDBRs",
        "colab": {}
      },
      "source": [
        "import tensorflow as tf\n",
        "import ijson"
      ],
      "execution_count": 0,
      "outputs": []
    },
    {
      "cell_type": "code",
      "metadata": {
        "colab_type": "code",
        "id": "f7BY3LBhDmgu",
        "outputId": "97a2fb2d-8c80-4c9d-d016-500ea431b2cb",
        "colab": {
          "base_uri": "https://localhost:8080/",
          "height": 34
        }
      },
      "source": [
        "tf.__version__"
      ],
      "execution_count": 0,
      "outputs": [
        {
          "output_type": "execute_result",
          "data": {
            "text/plain": [
              "'2.2.0'"
            ]
          },
          "metadata": {
            "tags": []
          },
          "execution_count": 2
        }
      ]
    },
    {
      "cell_type": "code",
      "metadata": {
        "colab_type": "code",
        "id": "GVJvOkVSEMF7",
        "colab": {}
      },
      "source": [
        "\n",
        "\n",
        "\n",
        "docMap = {}\n",
        "classDocStrings = {}\n",
        "with open('merge-15-22.2.format.json','rb') as data:\n",
        "    docStringObjects = ijson.items(data, 'item')\n",
        "    for docString in docStringObjects:\n",
        "        if 'klass' in docString:\n",
        "            if 'class_docstring' in docString:\n",
        "                if 'class_docstring' != None:\n",
        "                    classDocStrings[docString['klass']] = docString['class_docstring']\n",
        "docMap = {}\n",
        "with open('merge-15-22.2.format.json','rb') as data:\n",
        "    docStringObjects = ijson.items(data, 'item')\n",
        "    for docString in docStringObjects:\n",
        "        if docString['module'] != None:\n",
        "            totalLabel = docString['module']\n",
        "        else:\n",
        "            totalLabel = 'noModule'\n",
        "        className = 'noClass'\n",
        "        functionName = 'noFunction'\n",
        "        if 'klass' in docString:\n",
        "            if docString['klass'] != None:\n",
        "                className = docString['klass']\t\n",
        "        totalLabel = totalLabel + ' ' + className \n",
        "        if 'function' in docString:\n",
        "            if docString['function'] != None:\n",
        "                functionName = docString['function']\n",
        "        totalLabel = totalLabel + ' ' + functionName\n",
        "        totalText = '' \n",
        "        if className != 'noClass':\n",
        "            totalText = totalText + className\n",
        "        if functionName != 'noFunction':\n",
        "            totalText = totalText + ' ' + functionName\n",
        "        functionDocString = ''\n",
        "        classDocString = ''\n",
        "        if 'function_docstring' in docString:\n",
        "            functionDocString = docString['function_docstring']\n",
        "            if functionDocString != None:\n",
        "                totalText = totalText + ' ' + functionDocString\n",
        "        if className in classDocStrings:\n",
        "            totalText = totalText + ' ' + classDocStrings[className]\n",
        "        docMap[totalLabel] = totalText\t\n",
        "docItems = []\n",
        "for label, text in docMap.items():\n",
        "    for thing in text:\n",
        "        if thing == None:\n",
        "            print(label)\n",
        "    docItems.append((label, text))\n"
      ],
      "execution_count": 0,
      "outputs": []
    },
    {
      "cell_type": "code",
      "metadata": {
        "colab_type": "code",
        "id": "WLEpNhobKwEl",
        "outputId": "b3a48303-f597-48da-9393-dc625c1d534e",
        "colab": {
          "base_uri": "https://localhost:8080/",
          "height": 34
        }
      },
      "source": [
        "len(docItems)"
      ],
      "execution_count": 0,
      "outputs": [
        {
          "output_type": "execute_result",
          "data": {
            "text/plain": [
              "6341140"
            ]
          },
          "metadata": {
            "tags": []
          },
          "execution_count": 4
        }
      ]
    },
    {
      "cell_type": "code",
      "metadata": {
        "colab_type": "code",
        "id": "vemXPH54K69g",
        "outputId": "a439bcb8-c355-41bd-c05f-a285bec85e2a",
        "colab": {
          "base_uri": "https://localhost:8080/",
          "height": 34
        }
      },
      "source": [
        "len(docItems)"
      ],
      "execution_count": 0,
      "outputs": [
        {
          "output_type": "execute_result",
          "data": {
            "text/plain": [
              "6341140"
            ]
          },
          "metadata": {
            "tags": []
          },
          "execution_count": 5
        }
      ]
    },
    {
      "cell_type": "code",
      "metadata": {
        "id": "XND5W9N0qjvN",
        "colab_type": "code",
        "colab": {},
        "outputId": "302bcad7-ed7b-46c6-f876-ad4cd69fc841"
      },
      "source": [
        "docItems[4]"
      ],
      "execution_count": 0,
      "outputs": [
        {
          "output_type": "execute_result",
          "data": {
            "text/plain": [
              "('httpretty httpretty.core.EmptyRequestHeaders noFunction',\n",
              " 'httpretty.core.EmptyRequestHeaders A dict subclass used as internal representation of empty request\\n    headers\\n    ')"
            ]
          },
          "metadata": {
            "tags": []
          },
          "execution_count": 10
        }
      ]
    },
    {
      "cell_type": "code",
      "metadata": {
        "colab_type": "code",
        "id": "wODeDx0YbiX5",
        "colab": {}
      },
      "source": [
        "import pickle\n",
        "pickle.dump(docItems,open('docStringPickled', 'wb'))\n"
      ],
      "execution_count": 0,
      "outputs": []
    },
    {
      "cell_type": "code",
      "metadata": {
        "id": "WOm6FUapqjvT",
        "colab_type": "code",
        "colab": {}
      },
      "source": [
        "docItems[0]"
      ],
      "execution_count": 0,
      "outputs": []
    },
    {
      "cell_type": "code",
      "metadata": {
        "id": "IiCbAeDWqjvV",
        "colab_type": "code",
        "colab": {}
      },
      "source": [
        "\n",
        "##class level\n",
        "\n",
        "docMap = {}\n",
        "classDocStrings = {}\n",
        "with open('merge-15-22.2.format.json','rb') as data:\n",
        "    docStringObjects = ijson.items(data, 'item')\n",
        "    for docString in docStringObjects:\n",
        "        if 'klass' in docString:\n",
        "            if 'class_docstring' in docString:\n",
        "                if 'class_docstring' != None:\n",
        "                    classDocStrings[docString['klass']] = docString['class_docstring']\n",
        "docMap = {}\n",
        "with open('merge-15-22.2.format.json','rb') as data:\n",
        "    docStringObjects = ijson.items(data, 'item')\n",
        "    for docString in docStringObjects:\n",
        "        if docString['module'] != None:\n",
        "            totalLabel = docString['module']\n",
        "        else:\n",
        "            totalLabel = 'noModule'\n",
        "        className = 'noClass'\n",
        "#         functionName = 'noFunction'\n",
        "        if 'klass' in docString:\n",
        "            if docString['klass'] != None:\n",
        "                className = docString['klass']\t\n",
        "        totalLabel = totalLabel + ' ' + className \n",
        "#         if 'function' in docString:\n",
        "#             if docString['function'] != None:\n",
        "#                 functionName = docString['function']\n",
        "#         totalLabel = totalLabel + ' ' + functionName\n",
        "        totalText = '' \n",
        "        if className != 'noClass':\n",
        "            totalText = totalText + className\n",
        "#         if functionName != 'noFunction':\n",
        "#             totalText = totalText + ' ' + functionName\n",
        "#         functionDocString = ''\n",
        "        classDocString = ''\n",
        "#         if 'function_docstring' in docString:\n",
        "#             functionDocString = docString['function_docstring']\n",
        "#             if functionDocString != None:\n",
        "#                 totalText = totalText + ' ' + functionDocString\n",
        "        if className in classDocStrings:\n",
        "            totalText = totalText + ' ' + classDocStrings[className]\n",
        "        docMap[totalLabel] = totalText\t\n",
        "docItems = []\n",
        "for label, text in docMap.items():\n",
        "    for thing in text:\n",
        "        if thing == None:\n",
        "            print(label)\n",
        "    docItems.append((label, text))\n"
      ],
      "execution_count": 0,
      "outputs": []
    },
    {
      "cell_type": "code",
      "metadata": {
        "id": "jt2vRCAyqjvX",
        "colab_type": "code",
        "colab": {}
      },
      "source": [
        "import pickle\n",
        "pickle.dump(docItems,open('docStringPickled_class', 'wb'))\n"
      ],
      "execution_count": 0,
      "outputs": []
    },
    {
      "cell_type": "code",
      "metadata": {
        "id": "tv8EwA0Uqjva",
        "colab_type": "code",
        "colab": {}
      },
      "source": [
        ""
      ],
      "execution_count": 0,
      "outputs": []
    }
  ]
}