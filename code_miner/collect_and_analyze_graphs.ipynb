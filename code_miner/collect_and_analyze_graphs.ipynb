{
 "cells": [
  {
   "cell_type": "code",
   "execution_count": 1,
   "metadata": {},
   "outputs": [
    {
     "ename": "NameError",
     "evalue": "name 'handle_call_to_analysis' is not defined",
     "output_type": "error",
     "traceback": [
      "\u001b[0;31m---------------------------------------------------------------------------\u001b[0m",
      "\u001b[0;31mNameError\u001b[0m                                 Traceback (most recent call last)",
      "\u001b[0;32m<ipython-input-1-a38796b7b893>\u001b[0m in \u001b[0;36m<module>\u001b[0;34m\u001b[0m\n\u001b[1;32m     46\u001b[0m     \u001b[0mprint\u001b[0m\u001b[0;34m(\u001b[0m\u001b[0;34m'num failures'\u001b[0m \u001b[0;34m+\u001b[0m \u001b[0mstr\u001b[0m\u001b[0;34m(\u001b[0m\u001b[0mfails\u001b[0m\u001b[0;34m)\u001b[0m\u001b[0;34m)\u001b[0m\u001b[0;34m\u001b[0m\u001b[0m\n\u001b[1;32m     47\u001b[0m \u001b[0;34m\u001b[0m\u001b[0m\n\u001b[0;32m---> 48\u001b[0;31m \u001b[0mmain\u001b[0m\u001b[0;34m(\u001b[0m\u001b[0;34m'../kaggle/python_files'\u001b[0m\u001b[0;34m,\u001b[0m\u001b[0;34m'../kaggle_rdf'\u001b[0m\u001b[0;34m,\u001b[0m\u001b[0;36m10\u001b[0m\u001b[0;34m)\u001b[0m\u001b[0;34m\u001b[0m\u001b[0m\n\u001b[0m",
      "\u001b[0;32m<ipython-input-1-a38796b7b893>\u001b[0m in \u001b[0;36mmain\u001b[0;34m(inputdir, graphdir, limit)\u001b[0m\n\u001b[1;32m     31\u001b[0m             \u001b[0msource\u001b[0m \u001b[0;34m=\u001b[0m \u001b[0msample_file\u001b[0m\u001b[0;34m.\u001b[0m\u001b[0mread\u001b[0m\u001b[0;34m(\u001b[0m\u001b[0;34m)\u001b[0m\u001b[0;34m\u001b[0m\u001b[0m\n\u001b[1;32m     32\u001b[0m \u001b[0;34m\u001b[0m\u001b[0m\n\u001b[0;32m---> 33\u001b[0;31m         \u001b[0mgraph_tuple\u001b[0m \u001b[0;34m=\u001b[0m \u001b[0mhandle_call_to_analysis\u001b[0m\u001b[0;34m(\u001b[0m\u001b[0msource\u001b[0m\u001b[0;34m,\u001b[0m \u001b[0mf\u001b[0m\u001b[0;34m)\u001b[0m\u001b[0;34m\u001b[0m\u001b[0m\n\u001b[0m\u001b[1;32m     34\u001b[0m         \u001b[0;32mif\u001b[0m \u001b[0mgraph_tuple\u001b[0m\u001b[0;34m:\u001b[0m\u001b[0;34m\u001b[0m\u001b[0m\n\u001b[1;32m     35\u001b[0m             \u001b[0msingle_g\u001b[0m \u001b[0;34m=\u001b[0m \u001b[0mrdflib\u001b[0m\u001b[0;34m.\u001b[0m\u001b[0mGraph\u001b[0m\u001b[0;34m(\u001b[0m\u001b[0;34m)\u001b[0m\u001b[0;34m\u001b[0m\u001b[0m\n",
      "\u001b[0;31mNameError\u001b[0m: name 'handle_call_to_analysis' is not defined"
     ]
    }
   ],
   "source": [
    "import requests\n",
    "import json\n",
    "import StaticAnalysisGraphBuilder\n",
    "import AI4MLTagReader\n",
    "import rdflib\n",
    "import numpy as np\n",
    "import os\n",
    "import sys\n",
    "\n",
    "\"\"\"\n",
    "  This class opens up a pandas dataframe of code from github, and calls WALA's apis to get control flow and data flow\n",
    "  for each class.  The class is broken down into a set of entry points that correspond to each function in the dataset.\n",
    "  Analysis starts at each entry point, and returns a graph of control flow and data flow edges.  These are \n",
    "  converted into an RDF graph and dumped in turtle.\n",
    "\"\"\"\n",
    "classes_to_superclasses = AI4MLTagReader.get_class_hierarchy()\n",
    "\n",
    "url = 'http://localhost:4567/analyze_code'\n",
    "\n",
    "\n",
    "def main(inputdir, graphdir, limit=-1):\n",
    "    fails = 0\n",
    "    success = 0\n",
    "\n",
    "    for i, f in enumerate(os.listdir(inputdir)):\n",
    "        if limit >= 0 and i > limit:\n",
    "            break\n",
    "        if not f.startswith('sample'):\n",
    "            continue\n",
    "        with open(os.path.join(inputdir, f)) as sample_file:\n",
    "            source = sample_file.read()\n",
    "\n",
    "        graph_tuple = handle_call_to_analysis(source, f)\n",
    "        if graph_tuple:\n",
    "            single_g = rdflib.Graph()\n",
    "            StaticAnalysisGraphBuilder.addToGraph(single_g, graph_tuple)\n",
    "            fn = os.path.join(graphdir, f + '.ttl')\n",
    "            print(fn)\n",
    "            with open(fn, 'wb') as out:\n",
    "                out.write(single_g.serialize(format='turtle'))\n",
    "            success += 1\n",
    "        else:\n",
    "            fails += 1\n",
    "\n",
    "    print(\"num successes:\" + str(success))\n",
    "    print('num failures' + str(fails))\n",
    "\n",
    "main('../kaggle/python_files','../kaggle_rdf',10)"
   ]
  },
  {
   "cell_type": "code",
   "execution_count": null,
   "metadata": {},
   "outputs": [],
   "source": []
  }
 ],
 "metadata": {
  "kernelspec": {
   "display_name": "Python 3",
   "language": "python",
   "name": "python3"
  },
  "language_info": {
   "codemirror_mode": {
    "name": "ipython",
    "version": 3
   },
   "file_extension": ".py",
   "mimetype": "text/x-python",
   "name": "python",
   "nbconvert_exporter": "python",
   "pygments_lexer": "ipython3",
   "version": "3.6.4"
  }
 },
 "nbformat": 4,
 "nbformat_minor": 2
}
