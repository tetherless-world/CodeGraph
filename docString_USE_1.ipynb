{
  "nbformat": 4,
  "nbformat_minor": 0,
  "metadata": {
    "colab": {
      "name": "docString_USE-1.ipynb",
      "provenance": [],
      "collapsed_sections": [],
      "mount_file_id": "1mu94ApUGMKlMR6xSV3ML6flM6dt7qrOw",
      "authorship_tag": "ABX9TyPWlaT1La5Hl5Y0Ic9GPD9w"
    },
    "kernelspec": {
      "name": "python3",
      "display_name": "Python 3"
    }
  },
  "cells": [
    {
      "cell_type": "code",
      "metadata": {
        "id": "vpexfXOcDBRs",
        "colab_type": "code",
        "colab": {}
      },
      "source": [
        "import tensorflow as tf\n",
        "!pip install ijson"
      ],
      "execution_count": 0,
      "outputs": []
    },
    {
      "cell_type": "code",
      "metadata": {
        "id": "UaOUy6DKeUfU",
        "colab_type": "code",
        "colab": {}
      },
      "source": [
        ""
      ],
      "execution_count": 0,
      "outputs": []
    },
    {
      "cell_type": "code",
      "metadata": {
        "id": "f7BY3LBhDmgu",
        "colab_type": "code",
        "colab": {
          "base_uri": "https://localhost:8080/",
          "height": 34
        },
        "outputId": "97a2fb2d-8c80-4c9d-d016-500ea431b2cb"
      },
      "source": [
        "tf.__version__"
      ],
      "execution_count": 15,
      "outputs": [
        {
          "output_type": "execute_result",
          "data": {
            "text/plain": [
              "'2.2.0'"
            ]
          },
          "metadata": {
            "tags": []
          },
          "execution_count": 15
        }
      ]
    },
    {
      "cell_type": "code",
      "metadata": {
        "id": "GVJvOkVSEMF7",
        "colab_type": "code",
        "colab": {}
      },
      "source": [
        "docMap = {}\n",
        "with open('drive/My Drive/self services/MS/RPI/TWC/merge-15-22.2.format.json','rb') as data:\n",
        "  docStringObjects = ijson.items(data, 'item')\t\n",
        "  for docString in docStringObjects:\n",
        "    if 'module' in docString:\n",
        "      name = docString['module']\n",
        "      if name not in docMap:\n",
        "        docMap[name] = []\n",
        "      for element in docString:\n",
        "        if 'docstring' in element:\n",
        "          if docString[element] != None:\n",
        "            docMap[name].append(docString[element])\n",
        "          else:\n",
        "            pass\n",
        "docItems = []\n",
        "for label, text in docMap.items():\n",
        "  space = ' '\n",
        "  combinedModuleText = space.join(text)\n",
        "  docItems.append((label, combinedModuleText))\n"
      ],
      "execution_count": 0,
      "outputs": []
    },
    {
      "cell_type": "code",
      "metadata": {
        "id": "WLEpNhobKwEl",
        "colab_type": "code",
        "colab": {
          "base_uri": "https://localhost:8080/",
          "height": 34
        },
        "outputId": "b3a48303-f597-48da-9393-dc625c1d534e"
      },
      "source": [
        "len(docItems)"
      ],
      "execution_count": 24,
      "outputs": [
        {
          "output_type": "execute_result",
          "data": {
            "text/plain": [
              "2199"
            ]
          },
          "metadata": {
            "tags": []
          },
          "execution_count": 24
        }
      ]
    },
    {
      "cell_type": "code",
      "metadata": {
        "id": "vemXPH54K69g",
        "colab_type": "code",
        "colab": {
          "base_uri": "https://localhost:8080/",
          "height": 34
        },
        "outputId": "a439bcb8-c355-41bd-c05f-a285bec85e2a"
      },
      "source": [
        "len(docItems)"
      ],
      "execution_count": 26,
      "outputs": [
        {
          "output_type": "execute_result",
          "data": {
            "text/plain": [
              "2199"
            ]
          },
          "metadata": {
            "tags": []
          },
          "execution_count": 26
        }
      ]
    },
    {
      "cell_type": "code",
      "metadata": {
        "id": "wODeDx0YbiX5",
        "colab_type": "code",
        "colab": {}
      },
      "source": [
        "from google.colab import files\n",
        "import pickle\n",
        "pickle.dump(docItems,open('docStringPickled', 'wb'))\n",
        "/content/docStringPickled"
      ],
      "execution_count": 0,
      "outputs": []
    }
  ]
}